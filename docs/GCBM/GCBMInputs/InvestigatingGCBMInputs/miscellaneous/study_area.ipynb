{
 "cells": [
  {
   "cell_type": "code",
   "execution_count": 1,
   "id": "a1ec76f7",
   "metadata": {},
   "outputs": [],
   "source": [
    "import json"
   ]
  },
  {
   "cell_type": "code",
   "execution_count": 2,
   "id": "989d5524",
   "metadata": {},
   "outputs": [
    {
     "data": {
      "text/plain": [
       "{'tile_size': 1.0,\n",
       " 'block_size': 0.1,\n",
       " 'tiles': [{'x': -106, 'y': 55, 'index': 12674}],\n",
       " 'pixel_size': 0.00025,\n",
       " 'layers': [{'name': 'initial_age', 'type': 'VectorLayer'},\n",
       "  {'name': 'mean_annual_temperature', 'type': 'VectorLayer'},\n",
       "  {'name': 'Classifier1', 'type': 'VectorLayer', 'tags': ['classifier']},\n",
       "  {'name': 'Classifier2', 'type': 'VectorLayer', 'tags': ['classifier']},\n",
       "  {'name': 'disturbances_2011',\n",
       "   'type': 'DisturbanceLayer',\n",
       "   'tags': ['disturbance']},\n",
       "  {'name': 'disturbances_2012',\n",
       "   'type': 'DisturbanceLayer',\n",
       "   'tags': ['disturbance']},\n",
       "  {'name': 'disturbances_2013',\n",
       "   'type': 'DisturbanceLayer',\n",
       "   'tags': ['disturbance']},\n",
       "  {'name': 'disturbances_2014',\n",
       "   'type': 'DisturbanceLayer',\n",
       "   'tags': ['disturbance']},\n",
       "  {'name': 'disturbances_2015',\n",
       "   'type': 'DisturbanceLayer',\n",
       "   'tags': ['disturbance']},\n",
       "  {'name': 'disturbances_2016',\n",
       "   'type': 'DisturbanceLayer',\n",
       "   'tags': ['disturbance']},\n",
       "  {'name': 'disturbances_2018',\n",
       "   'type': 'DisturbanceLayer',\n",
       "   'tags': ['disturbance']}]}"
      ]
     },
     "execution_count": 2,
     "metadata": {},
     "output_type": "execute_result"
    }
   ],
   "source": [
    "with open(\"study_area.json\") as f:\n",
    "      data = json.load(f)\n",
    "data"
   ]
  },
  {
   "cell_type": "code",
   "execution_count": 3,
   "id": "2e2a9d2e",
   "metadata": {},
   "outputs": [
    {
     "ename": "KeyError",
     "evalue": "0",
     "output_type": "error",
     "traceback": [
      "\u001b[1;31m---------------------------------------------------------------------------\u001b[0m",
      "\u001b[1;31mKeyError\u001b[0m                                  Traceback (most recent call last)",
      "Input \u001b[1;32mIn [3]\u001b[0m, in \u001b[0;36m<cell line: 1>\u001b[1;34m()\u001b[0m\n\u001b[0;32m      1\u001b[0m \u001b[38;5;28;01mfor\u001b[39;00m i \u001b[38;5;129;01min\u001b[39;00m \u001b[38;5;28mrange\u001b[39m(\u001b[38;5;241m0\u001b[39m,\u001b[38;5;28mlen\u001b[39m(data)):\n\u001b[1;32m----> 2\u001b[0m     \u001b[38;5;28mprint\u001b[39m(\u001b[43mdata\u001b[49m\u001b[43m[\u001b[49m\u001b[43mi\u001b[49m\u001b[43m]\u001b[49m)\n",
      "\u001b[1;31mKeyError\u001b[0m: 0"
     ]
    }
   ],
   "source": [
    "for i in range(0,len(data)):\n",
    "    print(data[i])\n",
    "    \n"
   ]
  },
  {
   "cell_type": "code",
   "execution_count": null,
   "id": "8a87fb02",
   "metadata": {},
   "outputs": [],
   "source": []
  }
 ],
 "metadata": {
  "kernelspec": {
   "display_name": "Python 3 (ipykernel)",
   "language": "python",
   "name": "python3"
  },
  "language_info": {
   "codemirror_mode": {
    "name": "ipython",
    "version": 3
   },
   "file_extension": ".py",
   "mimetype": "text/x-python",
   "name": "python",
   "nbconvert_exporter": "python",
   "pygments_lexer": "ipython3",
   "version": "3.10.5"
  }
 },
 "nbformat": 4,
 "nbformat_minor": 5
}
