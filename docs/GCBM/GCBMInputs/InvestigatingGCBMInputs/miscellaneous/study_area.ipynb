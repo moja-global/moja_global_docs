{
 "cells": [
  {
   "cell_type": "markdown",
   "id": "4f25855f",
   "metadata": {},
   "source": [
    "# study_area"
   ]
  },
  {
   "cell_type": "code",
   "execution_count": 1,
   "id": "008510a4",
   "metadata": {},
   "outputs": [],
   "source": [
    "import json"
   ]
  },
  {
   "cell_type": "code",
   "execution_count": 2,
   "id": "d2d7e31e",
   "metadata": {},
   "outputs": [
    {
     "data": {
      "text/plain": [
       "{'tile_size': 1.0,\n",
       " 'block_size': 0.1,\n",
       " 'tiles': [{'x': -106, 'y': 55, 'index': 12674}],\n",
       " 'pixel_size': 0.00025,\n",
       " 'layers': [{'name': 'initial_age', 'type': 'VectorLayer'},\n",
       "  {'name': 'mean_annual_temperature', 'type': 'VectorLayer'},\n",
       "  {'name': 'Classifier1', 'type': 'VectorLayer', 'tags': ['classifier']},\n",
       "  {'name': 'Classifier2', 'type': 'VectorLayer', 'tags': ['classifier']},\n",
       "  {'name': 'disturbances_2011',\n",
       "   'type': 'DisturbanceLayer',\n",
       "   'tags': ['disturbance']},\n",
       "  {'name': 'disturbances_2012',\n",
       "   'type': 'DisturbanceLayer',\n",
       "   'tags': ['disturbance']},\n",
       "  {'name': 'disturbances_2013',\n",
       "   'type': 'DisturbanceLayer',\n",
       "   'tags': ['disturbance']},\n",
       "  {'name': 'disturbances_2014',\n",
       "   'type': 'DisturbanceLayer',\n",
       "   'tags': ['disturbance']},\n",
       "  {'name': 'disturbances_2015',\n",
       "   'type': 'DisturbanceLayer',\n",
       "   'tags': ['disturbance']},\n",
       "  {'name': 'disturbances_2016',\n",
       "   'type': 'DisturbanceLayer',\n",
       "   'tags': ['disturbance']},\n",
       "  {'name': 'disturbances_2018',\n",
       "   'type': 'DisturbanceLayer',\n",
       "   'tags': ['disturbance']}]}"
      ]
     },
     "execution_count": 2,
     "metadata": {},
     "output_type": "execute_result"
    }
   ],
   "source": [
    "with open(\"study_area.json\") as f:\n",
    "      data = json.load(f)\n",
    "data"
   ]
  },
  {
   "cell_type": "code",
   "execution_count": null,
   "id": "74a276c4",
   "metadata": {},
   "outputs": [],
   "source": []
  }
 ],
 "metadata": {
  "kernelspec": {
   "display_name": "Python 3 (ipykernel)",
   "language": "python",
   "name": "python3"
  },
  "language_info": {
   "codemirror_mode": {
    "name": "ipython",
    "version": 3
   },
   "file_extension": ".py",
   "mimetype": "text/x-python",
   "name": "python",
   "nbconvert_exporter": "python",
   "pygments_lexer": "ipython3",
   "version": "3.10.5"
  }
 },
 "nbformat": 4,
 "nbformat_minor": 5
}
