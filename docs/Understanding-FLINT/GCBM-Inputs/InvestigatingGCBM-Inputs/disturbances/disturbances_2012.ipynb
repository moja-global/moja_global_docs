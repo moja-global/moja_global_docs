{
 "cells": [
  {
   "cell_type": "markdown",
   "id": "989c149a",
   "metadata": {},
   "source": [
    "## disturbances_2012_moja\n",
    "You can find instructions to open a geoTIFF file here. Instructions on how to download and install Rasterio and GDAL(not necessary for linux) are included too.\n",
    "\n",
    "In addition to that, we also need to install matplotlib and Shapely in order to clip the raster.\n",
    "\n",
    "To install matplotlib and Shapely, run the commands :\n",
    "\n",
    "```shell\n",
    "pip install matplotlib\n",
    "```\n",
    "```shell\n",
    "pip install shapely\n",
    "```"
   ]
  },
  {
   "cell_type": "markdown",
   "id": "8702a6ef",
   "metadata": {},
   "source": [
    "Import the required libraries"
   ]
  },
  {
   "cell_type": "code",
   "execution_count": 3,
   "id": "783456ec",
   "metadata": {},
   "outputs": [],
   "source": [
    "import rasterio as rst\n",
    "from rasterio.plot import show\n",
    "import matplotlib.pyplot as plt\n",
    "import numpy as np"
   ]
  },
  {
   "cell_type": "markdown",
   "id": "53122ae1",
   "metadata": {},
   "source": [
    "Store the geoTIFF file in a variable, use the rs.open() and show() functions to open view the image in the next cell.\n",
    "\n",
    "We can also perform different operations using raster objects: the number of bands, the image resolution, CRS value, no-data value, number of raster bands, etc."
   ]
  },
  {
   "cell_type": "code",
   "execution_count": 4,
   "id": "5983400e",
   "metadata": {},
   "outputs": [
    {
     "data": {
      "image/png": "[encoded data removed]",
      "text/plain": [
       "<Figure size 432x288 with 1 Axes>"
      ]
     },
     "metadata": {
      "needs_background": "light"
     },
     "output_type": "display_data"
    },
    {
     "name": "stdout",
     "output_type": "stream",
     "text": [
      "1\n",
      "4000 4000\n",
      "EPSG:4326\n",
      "255.0\n"
     ]
    }
   ],
   "source": [
    "disturbances12 = r'disturbances_2012_moja.tiff'\n",
    "img = rst.open(disturbances12)\n",
    "show(img)\n",
    "#No. of bands\n",
    "print(img.count)\n",
    "\n",
    "#Image resolution\n",
    "print(img.height, img.width)\n",
    "\n",
    "# CRS\n",
    "print(img.crs)\n",
    "\n",
    "# No-data\n",
    "print(img.nodata)"
   ]
  },
  {
   "cell_type": "markdown",
   "id": "43dac78d",
   "metadata": {},
   "source": [
    "The image has a lot of padding around the area of interest, hence we need to clip the raster. "
   ]
  },
  {
   "cell_type": "code",
   "execution_count": 5,
   "id": "2aaca601",
   "metadata": {},
   "outputs": [],
   "source": [
    "from rasterio.features import dataset_features"
   ]
  },
  {
   "cell_type": "markdown",
   "id": "1fc61f3b",
   "metadata": {},
   "source": [
    "Finding geometry for a mask\n",
    "\n",
    "dataset_features yields GeoJSON-like feature dictionaries for shapes found in the given band\n",
    "\n",
    "Using this, we get the bounding box from all shapes in the output"
   ]
  },
  {
   "cell_type": "code",
   "execution_count": 6,
   "id": "7f493c31",
   "metadata": {},
   "outputs": [
    {
     "data": {
      "text/plain": [
       "[[-105.873, 54.47575, -105.8625, 54.485],\n",
       " [-105.86975, 54.46675, -105.8535, 54.4755]]"
      ]
     },
     "execution_count": 6,
     "metadata": {},
     "output_type": "execute_result"
    }
   ],
   "source": [
    "geom_gen = dataset_features(img, bidx=1)\n",
    "bboxes = [geom['bbox'] for geom in geom_gen]\n",
    "bboxes"
   ]
  },
  {
   "cell_type": "markdown",
   "id": "366d078c",
   "metadata": {},
   "source": [
    "Next, we assign the extremums from the bounding box to different variables"
   ]
  },
  {
   "cell_type": "code",
   "execution_count": 7,
   "id": "58766457",
   "metadata": {},
   "outputs": [],
   "source": [
    "left   = min([bbox[0] for bbox in bboxes])\n",
    "bottom = min([bbox[1] for bbox in bboxes])\n",
    "right  = max([bbox[2] for bbox in bboxes])\n",
    "top    = max([bbox[3] for bbox in bboxes])"
   ]
  },
  {
   "cell_type": "markdown",
   "id": "5dca7642",
   "metadata": {},
   "source": [
    "Create a Polygon geometry for the mask"
   ]
  },
  {
   "cell_type": "code",
   "execution_count": 8,
   "id": "a1763c06",
   "metadata": {},
   "outputs": [
    {
     "data": {
      "text/plain": [
       "'POLYGON ((-105.8535 54.46675, -105.8535 54.485, -105.873 54.485, -105.873 54.46675, -105.8535 54.46675))'"
      ]
     },
     "execution_count": 8,
     "metadata": {},
     "output_type": "execute_result"
    }
   ],
   "source": [
    "from shapely.geometry import box\n",
    "\n",
    "# create a POLYGON geometry for the mask\n",
    "geom = box(left, bottom, right, top)\n",
    "geom.wkt"
   ]
  },
  {
   "cell_type": "markdown",
   "id": "6d8ecf06",
   "metadata": {},
   "source": [
    "Creating the mask"
   ]
  },
  {
   "cell_type": "code",
   "execution_count": 9,
   "id": "41cf10d3",
   "metadata": {},
   "outputs": [],
   "source": [
    "from rasterio.mask import mask"
   ]
  },
  {
   "cell_type": "markdown",
   "id": "c03a023f",
   "metadata": {},
   "source": [
    "Assigning the data for the clipped image"
   ]
  },
  {
   "cell_type": "code",
   "execution_count": 10,
   "id": "2dde6207",
   "metadata": {},
   "outputs": [],
   "source": [
    "out_image, out_transform = mask(img, [geom], crop=True, pad=True)\n",
    "out_meta = img.meta"
   ]
  },
  {
   "cell_type": "code",
   "execution_count": 11,
   "id": "ed99a1d3",
   "metadata": {
    "scrolled": true
   },
   "outputs": [],
   "source": [
    "out_meta.update({\"driver\": \"GTiff\",\n",
    "                 \"height\": out_image.shape[1],\n",
    "                 \"width\": out_image.shape[2],\n",
    "                 \"transform\": out_transform})\n",
    "\n",
    "with rst.open(r'disturbances_2012_moja_masked.tiff', 'w', **out_meta) as dest:\n",
    "    dest.write(out_image)"
   ]
  },
  {
   "cell_type": "markdown",
   "id": "d6e8244a",
   "metadata": {},
   "source": [
    "View the clipped raster"
   ]
  },
  {
   "cell_type": "code",
   "execution_count": 12,
   "id": "44324c90",
   "metadata": {},
   "outputs": [
    {
     "data": {
      "image/png": "[encoded data removed]",
      "text/plain": [
       "<Figure size 432x288 with 1 Axes>"
      ]
     },
     "metadata": {
      "needs_background": "light"
     },
     "output_type": "display_data"
    },
    {
     "data": {
      "text/plain": [
       "<AxesSubplot:>"
      ]
     },
     "execution_count": 12,
     "metadata": {},
     "output_type": "execute_result"
    }
   ],
   "source": [
    "fp_result = r'disturbances_2012_moja_masked.tiff'\n",
    "result = rst.open(fp_result)\n",
    "show(result)"
   ]
  },
  {
   "cell_type": "markdown",
   "id": "231e60bb",
   "metadata": {},
   "source": [
    "View JSON data parsed from disturbances_2012_moja"
   ]
  },
  {
   "cell_type": "code",
   "execution_count": 13,
   "id": "e83adf2d",
   "metadata": {},
   "outputs": [],
   "source": [
    "import json"
   ]
  },
  {
   "cell_type": "code",
   "execution_count": 14,
   "id": "0aa3152e",
   "metadata": {},
   "outputs": [
    {
     "data": {
      "text/plain": [
       "{'layer_type': 'GridLayer',\n",
       " 'layer_data': 'Byte',\n",
       " 'nodata': 255,\n",
       " 'tileLatSize': 1.0,\n",
       " 'tileLonSize': 1.0,\n",
       " 'blockLatSize': 0.1,\n",
       " 'blockLonSize': 0.1,\n",
       " 'cellLatSize': 0.00025,\n",
       " 'cellLonSize': 0.00025,\n",
       " 'attributes': {'1': {'year': 2012,\n",
       "   'disturbance_type': 'Wildfire',\n",
       "   'transition': 1}}}"
      ]
     },
     "execution_count": 14,
     "metadata": {},
     "output_type": "execute_result"
    }
   ],
   "source": [
    "with open(\"disturbances_2012_moja.json\") as f:\n",
    "      data = json.load(f)\n",
    "data"
   ]
  }
 ],
 "metadata": {
  "kernelspec": {
   "display_name": "Python 3 (ipykernel)",
   "language": "python",
   "name": "python3"
  },
  "language_info": {
   "codemirror_mode": {
    "name": "ipython",
    "version": 3
   },
   "file_extension": ".py",
   "mimetype": "text/x-python",
   "name": "python",
   "nbconvert_exporter": "python",
   "pygments_lexer": "ipython3",
   "version": "3.8.8"
  }
 },
 "nbformat": 4,
 "nbformat_minor": 5
}
