{
 "cells": [
  {
   "cell_type": "markdown",
   "id": "81649692",
   "metadata": {},
   "source": [
    "## Datatype: CSV \n",
    "### CSV stands for comma separated values. It is a plain text file that contains a list of data. These files are often used to exchange data between different applications.\n",
    "\n",
    "To open a CSV file, you need to install the pandas library. Pandas is a open source library used in data analysis.\n",
    "\n",
    "In this example, we are using the [Growth Curves](https://github.com/moja-global/GCBM.Belize/blob/master/Standalone_GCBM/input_database/Growth_Curves.csv) file."
   ]
  },
  {
   "cell_type": "markdown",
   "id": "d55b89b1",
   "metadata": {},
   "source": [
    "Go through the following steps to open a csv file:\n",
    "1. Install pandas library with the pip command"
   ]
  },
  {
   "cell_type": "code",
   "execution_count": 22,
   "id": "e713edb6",
   "metadata": {},
   "outputs": [
    {
     "name": "stdout",
     "output_type": "stream",
     "text": [
      "Collecting package metadata (current_repodata.json): ...working... done\n",
      "Solving environment: ...working... done\n",
      "\n",
      "# All requested packages already installed.\n",
      "\n",
      "\n",
      "Note: you may need to restart the kernel to use updated packages.\n"
     ]
    }
   ],
   "source": [
    "pip install pandas\n",
    "conda install -c conda-forge pandoc\n",
    "pip install --upgrade pandoc"
   ]
  },
  {
   "cell_type": "markdown",
   "id": "3ed51e21",
   "metadata": {},
   "source": [
    "2. Import pandas library as pd"
   ]
  },
  {
   "cell_type": "code",
   "execution_count": 12,
   "id": "7352dbcb",
   "metadata": {
    "scrolled": true
   },
   "outputs": [],
   "source": [
    "import pandas as pd"
   ]
  },
  {
   "cell_type": "markdown",
   "id": "a0108dcb",
   "metadata": {},
   "source": [
    "2. Use the read_csv method (which comes with the pandas library), and pass your csv file path as a parameter\n",
    "3. Use the print function to view the output"
   ]
  },
  {
   "cell_type": "code",
   "execution_count": 14,
   "id": "8aa1f61e",
   "metadata": {
    "scrolled": true
   },
   "outputs": [
    {
     "name": "stdout",
     "output_type": "stream",
     "text": [
      "                                            LifeZone    AIDBSPP  0          1  \\\n",
      "0                                       Tropical Dry  Red alder  0   0.003347   \n",
      "1                                     Tropical Moist  Red alder  0  19.072762   \n",
      "2  Tropical Premontane Wet, Transition to Basal -...  Red alder  0  11.807128   \n",
      "3  Tropical Premontane Wet, Transition to Basal -...  Red alder  0  18.881966   \n",
      "4                                       Tropical Wet  Red alder  0  17.447870   \n",
      "5                                    Premontane Rain  Red alder  0  18.725175   \n",
      "\n",
      "           2          3          4          5           6           7  ...  \\\n",
      "0   0.089069   0.543011   1.816663   4.385234    8.627880   14.765182  ...   \n",
      "1  37.493209  55.283649  72.465631  89.059964  105.086747  120.565391  ...   \n",
      "2  23.364268  34.676713  45.749643  56.588130   67.197138   77.581525  ...   \n",
      "3  37.176591  54.902144  72.076328  88.716292  104.838655  120.459516  ...   \n",
      "4  34.574209  51.384943  67.885887  84.082750   99.981136  115.586545  ...   \n",
      "5  37.075897  55.059652  72.683780  89.955473  106.881777  123.469600  ...   \n",
      "\n",
      "          191         192         193         194         195         196  \\\n",
      "0  329.510638  329.510638  329.510638  329.510638  329.510638  329.510638   \n",
      "1  556.935638  556.960397  556.984310  557.007405  557.029710  557.051253   \n",
      "2  548.300479  548.498635  548.692597  548.882451  549.068286  549.250187   \n",
      "3  605.569245  605.614412  605.658173  605.700574  605.741656  605.781459   \n",
      "4  919.682397  920.182279  920.672950  921.154578  921.627331  922.091372   \n",
      "5  916.619721  917.014933  917.402243  917.781807  918.153781  918.518317   \n",
      "\n",
      "          197         198         199         200  \n",
      "0  329.510638  329.510638  329.510638  329.510638  \n",
      "1  557.072058  557.092152  557.111559  557.130302  \n",
      "2  549.428236  549.602515  549.773104  549.940081  \n",
      "3  605.820025  605.857391  605.893595  605.928673  \n",
      "4  922.546862  922.993958  923.432814  923.863584  \n",
      "5  918.875563  919.225665  919.568765  919.905005  \n",
      "\n",
      "[6 rows x 203 columns]\n"
     ]
    }
   ],
   "source": [
    "df = pd.read_csv(r'Growth_Curves.csv')\n",
    "print(df)"
   ]
  },
  {
   "cell_type": "markdown",
   "id": "3fbd428a",
   "metadata": {},
   "source": [
    "4. To check the top five rows:"
   ]
  },
  {
   "cell_type": "code",
   "execution_count": 15,
   "id": "ecec7e70",
   "metadata": {},
   "outputs": [
    {
     "data": {
      "text/html": [
       "<div>\n",
       "<style scoped>\n",
       "    .dataframe tbody tr th:only-of-type {\n",
       "        vertical-align: middle;\n",
       "    }\n",
       "\n",
       "    .dataframe tbody tr th {\n",
       "        vertical-align: top;\n",
       "    }\n",
       "\n",
       "    .dataframe thead th {\n",
       "        text-align: right;\n",
       "    }\n",
       "</style>\n",
       "<table border=\"1\" class=\"dataframe\">\n",
       "  <thead>\n",
       "    <tr style=\"text-align: right;\">\n",
       "      <th></th>\n",
       "      <th>LifeZone</th>\n",
       "      <th>AIDBSPP</th>\n",
       "      <th>0</th>\n",
       "      <th>1</th>\n",
       "      <th>2</th>\n",
       "      <th>3</th>\n",
       "      <th>4</th>\n",
       "      <th>5</th>\n",
       "      <th>6</th>\n",
       "      <th>7</th>\n",
       "      <th>...</th>\n",
       "      <th>191</th>\n",
       "      <th>192</th>\n",
       "      <th>193</th>\n",
       "      <th>194</th>\n",
       "      <th>195</th>\n",
       "      <th>196</th>\n",
       "      <th>197</th>\n",
       "      <th>198</th>\n",
       "      <th>199</th>\n",
       "      <th>200</th>\n",
       "    </tr>\n",
       "  </thead>\n",
       "  <tbody>\n",
       "    <tr>\n",
       "      <th>0</th>\n",
       "      <td>Tropical Dry</td>\n",
       "      <td>Red alder</td>\n",
       "      <td>0</td>\n",
       "      <td>0.003347</td>\n",
       "      <td>0.089069</td>\n",
       "      <td>0.543011</td>\n",
       "      <td>1.816663</td>\n",
       "      <td>4.385234</td>\n",
       "      <td>8.627880</td>\n",
       "      <td>14.765182</td>\n",
       "      <td>...</td>\n",
       "      <td>329.510638</td>\n",
       "      <td>329.510638</td>\n",
       "      <td>329.510638</td>\n",
       "      <td>329.510638</td>\n",
       "      <td>329.510638</td>\n",
       "      <td>329.510638</td>\n",
       "      <td>329.510638</td>\n",
       "      <td>329.510638</td>\n",
       "      <td>329.510638</td>\n",
       "      <td>329.510638</td>\n",
       "    </tr>\n",
       "    <tr>\n",
       "      <th>1</th>\n",
       "      <td>Tropical Moist</td>\n",
       "      <td>Red alder</td>\n",
       "      <td>0</td>\n",
       "      <td>19.072762</td>\n",
       "      <td>37.493209</td>\n",
       "      <td>55.283649</td>\n",
       "      <td>72.465631</td>\n",
       "      <td>89.059964</td>\n",
       "      <td>105.086747</td>\n",
       "      <td>120.565391</td>\n",
       "      <td>...</td>\n",
       "      <td>556.935638</td>\n",
       "      <td>556.960397</td>\n",
       "      <td>556.984310</td>\n",
       "      <td>557.007405</td>\n",
       "      <td>557.029710</td>\n",
       "      <td>557.051253</td>\n",
       "      <td>557.072058</td>\n",
       "      <td>557.092152</td>\n",
       "      <td>557.111559</td>\n",
       "      <td>557.130302</td>\n",
       "    </tr>\n",
       "    <tr>\n",
       "      <th>2</th>\n",
       "      <td>Tropical Premontane Wet, Transition to Basal -...</td>\n",
       "      <td>Red alder</td>\n",
       "      <td>0</td>\n",
       "      <td>11.807128</td>\n",
       "      <td>23.364268</td>\n",
       "      <td>34.676713</td>\n",
       "      <td>45.749643</td>\n",
       "      <td>56.588130</td>\n",
       "      <td>67.197138</td>\n",
       "      <td>77.581525</td>\n",
       "      <td>...</td>\n",
       "      <td>548.300479</td>\n",
       "      <td>548.498635</td>\n",
       "      <td>548.692597</td>\n",
       "      <td>548.882451</td>\n",
       "      <td>549.068286</td>\n",
       "      <td>549.250187</td>\n",
       "      <td>549.428236</td>\n",
       "      <td>549.602515</td>\n",
       "      <td>549.773104</td>\n",
       "      <td>549.940081</td>\n",
       "    </tr>\n",
       "    <tr>\n",
       "      <th>3</th>\n",
       "      <td>Tropical Premontane Wet, Transition to Basal -...</td>\n",
       "      <td>Red alder</td>\n",
       "      <td>0</td>\n",
       "      <td>18.881966</td>\n",
       "      <td>37.176591</td>\n",
       "      <td>54.902144</td>\n",
       "      <td>72.076328</td>\n",
       "      <td>88.716292</td>\n",
       "      <td>104.838655</td>\n",
       "      <td>120.459516</td>\n",
       "      <td>...</td>\n",
       "      <td>605.569245</td>\n",
       "      <td>605.614412</td>\n",
       "      <td>605.658173</td>\n",
       "      <td>605.700574</td>\n",
       "      <td>605.741656</td>\n",
       "      <td>605.781459</td>\n",
       "      <td>605.820025</td>\n",
       "      <td>605.857391</td>\n",
       "      <td>605.893595</td>\n",
       "      <td>605.928673</td>\n",
       "    </tr>\n",
       "    <tr>\n",
       "      <th>4</th>\n",
       "      <td>Tropical Wet</td>\n",
       "      <td>Red alder</td>\n",
       "      <td>0</td>\n",
       "      <td>17.447870</td>\n",
       "      <td>34.574209</td>\n",
       "      <td>51.384943</td>\n",
       "      <td>67.885887</td>\n",
       "      <td>84.082750</td>\n",
       "      <td>99.981136</td>\n",
       "      <td>115.586545</td>\n",
       "      <td>...</td>\n",
       "      <td>919.682397</td>\n",
       "      <td>920.182279</td>\n",
       "      <td>920.672950</td>\n",
       "      <td>921.154578</td>\n",
       "      <td>921.627331</td>\n",
       "      <td>922.091372</td>\n",
       "      <td>922.546862</td>\n",
       "      <td>922.993958</td>\n",
       "      <td>923.432814</td>\n",
       "      <td>923.863584</td>\n",
       "    </tr>\n",
       "  </tbody>\n",
       "</table>\n",
       "<p>5 rows × 203 columns</p>\n",
       "</div>"
      ],
      "text/plain": [
       "                                            LifeZone    AIDBSPP  0          1  \\\n",
       "0                                       Tropical Dry  Red alder  0   0.003347   \n",
       "1                                     Tropical Moist  Red alder  0  19.072762   \n",
       "2  Tropical Premontane Wet, Transition to Basal -...  Red alder  0  11.807128   \n",
       "3  Tropical Premontane Wet, Transition to Basal -...  Red alder  0  18.881966   \n",
       "4                                       Tropical Wet  Red alder  0  17.447870   \n",
       "\n",
       "           2          3          4          5           6           7  ...  \\\n",
       "0   0.089069   0.543011   1.816663   4.385234    8.627880   14.765182  ...   \n",
       "1  37.493209  55.283649  72.465631  89.059964  105.086747  120.565391  ...   \n",
       "2  23.364268  34.676713  45.749643  56.588130   67.197138   77.581525  ...   \n",
       "3  37.176591  54.902144  72.076328  88.716292  104.838655  120.459516  ...   \n",
       "4  34.574209  51.384943  67.885887  84.082750   99.981136  115.586545  ...   \n",
       "\n",
       "          191         192         193         194         195         196  \\\n",
       "0  329.510638  329.510638  329.510638  329.510638  329.510638  329.510638   \n",
       "1  556.935638  556.960397  556.984310  557.007405  557.029710  557.051253   \n",
       "2  548.300479  548.498635  548.692597  548.882451  549.068286  549.250187   \n",
       "3  605.569245  605.614412  605.658173  605.700574  605.741656  605.781459   \n",
       "4  919.682397  920.182279  920.672950  921.154578  921.627331  922.091372   \n",
       "\n",
       "          197         198         199         200  \n",
       "0  329.510638  329.510638  329.510638  329.510638  \n",
       "1  557.072058  557.092152  557.111559  557.130302  \n",
       "2  549.428236  549.602515  549.773104  549.940081  \n",
       "3  605.820025  605.857391  605.893595  605.928673  \n",
       "4  922.546862  922.993958  923.432814  923.863584  \n",
       "\n",
       "[5 rows x 203 columns]"
      ]
     },
     "execution_count": 15,
     "metadata": {},
     "output_type": "execute_result"
    }
   ],
   "source": [
    "df.head()"
   ]
  },
  {
   "cell_type": "markdown",
   "id": "54183872",
   "metadata": {},
   "source": [
    "5. To check the bottom five rows:"
   ]
  },
  {
   "cell_type": "code",
   "execution_count": 16,
   "id": "117c7cac",
   "metadata": {},
   "outputs": [
    {
     "data": {
      "text/html": [
       "<div>\n",
       "<style scoped>\n",
       "    .dataframe tbody tr th:only-of-type {\n",
       "        vertical-align: middle;\n",
       "    }\n",
       "\n",
       "    .dataframe tbody tr th {\n",
       "        vertical-align: top;\n",
       "    }\n",
       "\n",
       "    .dataframe thead th {\n",
       "        text-align: right;\n",
       "    }\n",
       "</style>\n",
       "<table border=\"1\" class=\"dataframe\">\n",
       "  <thead>\n",
       "    <tr style=\"text-align: right;\">\n",
       "      <th></th>\n",
       "      <th>LifeZone</th>\n",
       "      <th>AIDBSPP</th>\n",
       "      <th>0</th>\n",
       "      <th>1</th>\n",
       "      <th>2</th>\n",
       "      <th>3</th>\n",
       "      <th>4</th>\n",
       "      <th>5</th>\n",
       "      <th>6</th>\n",
       "      <th>7</th>\n",
       "      <th>...</th>\n",
       "      <th>191</th>\n",
       "      <th>192</th>\n",
       "      <th>193</th>\n",
       "      <th>194</th>\n",
       "      <th>195</th>\n",
       "      <th>196</th>\n",
       "      <th>197</th>\n",
       "      <th>198</th>\n",
       "      <th>199</th>\n",
       "      <th>200</th>\n",
       "    </tr>\n",
       "  </thead>\n",
       "  <tbody>\n",
       "    <tr>\n",
       "      <th>1</th>\n",
       "      <td>Tropical Moist</td>\n",
       "      <td>Red alder</td>\n",
       "      <td>0</td>\n",
       "      <td>19.072762</td>\n",
       "      <td>37.493209</td>\n",
       "      <td>55.283649</td>\n",
       "      <td>72.465631</td>\n",
       "      <td>89.059964</td>\n",
       "      <td>105.086747</td>\n",
       "      <td>120.565391</td>\n",
       "      <td>...</td>\n",
       "      <td>556.935638</td>\n",
       "      <td>556.960397</td>\n",
       "      <td>556.984310</td>\n",
       "      <td>557.007405</td>\n",
       "      <td>557.029710</td>\n",
       "      <td>557.051253</td>\n",
       "      <td>557.072058</td>\n",
       "      <td>557.092152</td>\n",
       "      <td>557.111559</td>\n",
       "      <td>557.130302</td>\n",
       "    </tr>\n",
       "    <tr>\n",
       "      <th>2</th>\n",
       "      <td>Tropical Premontane Wet, Transition to Basal -...</td>\n",
       "      <td>Red alder</td>\n",
       "      <td>0</td>\n",
       "      <td>11.807128</td>\n",
       "      <td>23.364268</td>\n",
       "      <td>34.676713</td>\n",
       "      <td>45.749643</td>\n",
       "      <td>56.588130</td>\n",
       "      <td>67.197138</td>\n",
       "      <td>77.581525</td>\n",
       "      <td>...</td>\n",
       "      <td>548.300479</td>\n",
       "      <td>548.498635</td>\n",
       "      <td>548.692597</td>\n",
       "      <td>548.882451</td>\n",
       "      <td>549.068286</td>\n",
       "      <td>549.250187</td>\n",
       "      <td>549.428236</td>\n",
       "      <td>549.602515</td>\n",
       "      <td>549.773104</td>\n",
       "      <td>549.940081</td>\n",
       "    </tr>\n",
       "    <tr>\n",
       "      <th>3</th>\n",
       "      <td>Tropical Premontane Wet, Transition to Basal -...</td>\n",
       "      <td>Red alder</td>\n",
       "      <td>0</td>\n",
       "      <td>18.881966</td>\n",
       "      <td>37.176591</td>\n",
       "      <td>54.902144</td>\n",
       "      <td>72.076328</td>\n",
       "      <td>88.716292</td>\n",
       "      <td>104.838655</td>\n",
       "      <td>120.459516</td>\n",
       "      <td>...</td>\n",
       "      <td>605.569245</td>\n",
       "      <td>605.614412</td>\n",
       "      <td>605.658173</td>\n",
       "      <td>605.700574</td>\n",
       "      <td>605.741656</td>\n",
       "      <td>605.781459</td>\n",
       "      <td>605.820025</td>\n",
       "      <td>605.857391</td>\n",
       "      <td>605.893595</td>\n",
       "      <td>605.928673</td>\n",
       "    </tr>\n",
       "    <tr>\n",
       "      <th>4</th>\n",
       "      <td>Tropical Wet</td>\n",
       "      <td>Red alder</td>\n",
       "      <td>0</td>\n",
       "      <td>17.447870</td>\n",
       "      <td>34.574209</td>\n",
       "      <td>51.384943</td>\n",
       "      <td>67.885887</td>\n",
       "      <td>84.082750</td>\n",
       "      <td>99.981136</td>\n",
       "      <td>115.586545</td>\n",
       "      <td>...</td>\n",
       "      <td>919.682397</td>\n",
       "      <td>920.182279</td>\n",
       "      <td>920.672950</td>\n",
       "      <td>921.154578</td>\n",
       "      <td>921.627331</td>\n",
       "      <td>922.091372</td>\n",
       "      <td>922.546862</td>\n",
       "      <td>922.993958</td>\n",
       "      <td>923.432814</td>\n",
       "      <td>923.863584</td>\n",
       "    </tr>\n",
       "    <tr>\n",
       "      <th>5</th>\n",
       "      <td>Premontane Rain</td>\n",
       "      <td>Red alder</td>\n",
       "      <td>0</td>\n",
       "      <td>18.725175</td>\n",
       "      <td>37.075897</td>\n",
       "      <td>55.059652</td>\n",
       "      <td>72.683780</td>\n",
       "      <td>89.955473</td>\n",
       "      <td>106.881777</td>\n",
       "      <td>123.469600</td>\n",
       "      <td>...</td>\n",
       "      <td>916.619721</td>\n",
       "      <td>917.014933</td>\n",
       "      <td>917.402243</td>\n",
       "      <td>917.781807</td>\n",
       "      <td>918.153781</td>\n",
       "      <td>918.518317</td>\n",
       "      <td>918.875563</td>\n",
       "      <td>919.225665</td>\n",
       "      <td>919.568765</td>\n",
       "      <td>919.905005</td>\n",
       "    </tr>\n",
       "  </tbody>\n",
       "</table>\n",
       "<p>5 rows × 203 columns</p>\n",
       "</div>"
      ],
      "text/plain": [
       "                                            LifeZone    AIDBSPP  0          1  \\\n",
       "1                                     Tropical Moist  Red alder  0  19.072762   \n",
       "2  Tropical Premontane Wet, Transition to Basal -...  Red alder  0  11.807128   \n",
       "3  Tropical Premontane Wet, Transition to Basal -...  Red alder  0  18.881966   \n",
       "4                                       Tropical Wet  Red alder  0  17.447870   \n",
       "5                                    Premontane Rain  Red alder  0  18.725175   \n",
       "\n",
       "           2          3          4          5           6           7  ...  \\\n",
       "1  37.493209  55.283649  72.465631  89.059964  105.086747  120.565391  ...   \n",
       "2  23.364268  34.676713  45.749643  56.588130   67.197138   77.581525  ...   \n",
       "3  37.176591  54.902144  72.076328  88.716292  104.838655  120.459516  ...   \n",
       "4  34.574209  51.384943  67.885887  84.082750   99.981136  115.586545  ...   \n",
       "5  37.075897  55.059652  72.683780  89.955473  106.881777  123.469600  ...   \n",
       "\n",
       "          191         192         193         194         195         196  \\\n",
       "1  556.935638  556.960397  556.984310  557.007405  557.029710  557.051253   \n",
       "2  548.300479  548.498635  548.692597  548.882451  549.068286  549.250187   \n",
       "3  605.569245  605.614412  605.658173  605.700574  605.741656  605.781459   \n",
       "4  919.682397  920.182279  920.672950  921.154578  921.627331  922.091372   \n",
       "5  916.619721  917.014933  917.402243  917.781807  918.153781  918.518317   \n",
       "\n",
       "          197         198         199         200  \n",
       "1  557.072058  557.092152  557.111559  557.130302  \n",
       "2  549.428236  549.602515  549.773104  549.940081  \n",
       "3  605.820025  605.857391  605.893595  605.928673  \n",
       "4  922.546862  922.993958  923.432814  923.863584  \n",
       "5  918.875563  919.225665  919.568765  919.905005  \n",
       "\n",
       "[5 rows x 203 columns]"
      ]
     },
     "execution_count": 16,
     "metadata": {},
     "output_type": "execute_result"
    }
   ],
   "source": [
    "df.tail()"
   ]
  },
  {
   "cell_type": "markdown",
   "id": "bb0293a2",
   "metadata": {},
   "source": [
    "6. To check the type of data, pass the dataframe name to the type() method:"
   ]
  },
  {
   "cell_type": "code",
   "execution_count": 17,
   "id": "3789817b",
   "metadata": {
    "scrolled": true
   },
   "outputs": [
    {
     "name": "stdout",
     "output_type": "stream",
     "text": [
      "<class 'pandas.core.frame.DataFrame'>\n"
     ]
    }
   ],
   "source": [
    "print(type(df))"
   ]
  },
  {
   "cell_type": "markdown",
   "id": "5f1a7ee8",
   "metadata": {},
   "source": [
    "7. To check the shape of your dataframe, use the below method:"
   ]
  },
  {
   "cell_type": "code",
   "execution_count": 18,
   "id": "47a3b7ba",
   "metadata": {},
   "outputs": [
    {
     "data": {
      "text/plain": [
       "(6, 203)"
      ]
     },
     "execution_count": 18,
     "metadata": {},
     "output_type": "execute_result"
    }
   ],
   "source": [
    "df.shape"
   ]
  },
  {
   "cell_type": "markdown",
   "id": "755de9a4",
   "metadata": {},
   "source": [
    "There are total 6 rows, and 203 columns."
   ]
  },
  {
   "cell_type": "markdown",
   "id": "4a923b23",
   "metadata": {},
   "source": [
    "8. To check column names:"
   ]
  },
  {
   "cell_type": "code",
   "execution_count": 9,
   "id": "ddb0561e",
   "metadata": {},
   "outputs": [
    {
     "data": {
      "text/plain": [
       "Index(['LifeZone', 'AIDBSPP', '0', '1', '2', '3', '4', '5', '6', '7',\n",
       "       ...\n",
       "       '191', '192', '193', '194', '195', '196', '197', '198', '199', '200'],\n",
       "      dtype='object', length=203)"
      ]
     },
     "execution_count": 9,
     "metadata": {},
     "output_type": "execute_result"
    }
   ],
   "source": [
    "df.columns"
   ]
  },
  {
   "cell_type": "markdown",
   "id": "2d9c1d09",
   "metadata": {},
   "source": [
    "9. To get more information about the data, use the given function:"
   ]
  },
  {
   "cell_type": "code",
   "execution_count": 10,
   "id": "f429657f",
   "metadata": {},
   "outputs": [
    {
     "name": "stdout",
     "output_type": "stream",
     "text": [
      "<class 'pandas.core.frame.DataFrame'>\n",
      "RangeIndex: 6 entries, 0 to 5\n",
      "Columns: 203 entries, LifeZone to 200\n",
      "dtypes: float64(200), int64(1), object(2)\n",
      "memory usage: 9.6+ KB\n",
      "None\n"
     ]
    }
   ],
   "source": [
    "print(df.info())"
   ]
  }
 ],
 "metadata": {
  "kernelspec": {
   "display_name": "Python 3 (ipykernel)",
   "language": "python",
   "name": "python3"
  },
  "language_info": {
   "codemirror_mode": {
    "name": "ipython",
    "version": 3
   },
   "file_extension": ".py",
   "mimetype": "text/x-python",
   "name": "python",
   "nbconvert_exporter": "python",
   "pygments_lexer": "ipython3",
   "version": "3.9.10"
  }
 },
 "nbformat": 4,
 "nbformat_minor": 5
}
