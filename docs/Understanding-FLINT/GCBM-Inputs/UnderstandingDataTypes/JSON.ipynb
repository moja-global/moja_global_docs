{
 "cells": [
  {
   "cell_type": "markdown",
   "id": "32086103",
   "metadata": {},
   "source": [
    "## Datatype: JSON \n",
    "### A JSON file stores simple data structures and objects in Javascript.\n",
    "\n",
    "In this example, we are using the [LifeZone_moja.json](https://github.com/moja-global/GCBM.Belize/blob/master/Standalone_GCBM/layers/tiled/LifeZone_moja.json) file.\n",
    "\n",
    "Viewing a JSON file can be very simple, and we don't need any external library or dependencies.\n",
    "\n",
    "Go through the given steps to open a JSON file in a jupyter notebook:"
   ]
  },
  {
   "cell_type": "markdown",
   "id": "98f499ca",
   "metadata": {},
   "source": [
    "1. Import the JSON module"
   ]
  },
  {
   "cell_type": "code",
   "execution_count": 1,
   "id": "b6faacef",
   "metadata": {},
   "outputs": [],
   "source": [
    "import json"
   ]
  },
  {
   "cell_type": "markdown",
   "id": "2148bdc9",
   "metadata": {},
   "source": [
    "2. Copy the file path of your JSON file and pass it as a parameter to the open() method"
   ]
  },
  {
   "cell_type": "code",
   "execution_count": 2,
   "id": "d43ca258",
   "metadata": {},
   "outputs": [],
   "source": [
    "with open(\"LifeZone_moja.json\") as f:\n",
    "      data = json.load(f)"
   ]
  },
  {
   "cell_type": "code",
   "execution_count": 3,
   "id": "9acf589b",
   "metadata": {},
   "outputs": [
    {
     "data": {
      "text/plain": [
       "{'layer_type': 'GridLayer',\n",
       " 'layer_data': 'Byte',\n",
       " 'nodata': 255,\n",
       " 'tileLatSize': 1.0,\n",
       " 'tileLonSize': 1.0,\n",
       " 'blockLatSize': 0.1,\n",
       " 'blockLonSize': 0.1,\n",
       " 'cellLatSize': 0.01,\n",
       " 'cellLonSize': 0.01,\n",
       " 'attributes': {'1': 'Tropical Dry',\n",
       "  '2': 'Tropical Moist',\n",
       "  '3': 'Tropical Premontane Wet, Transition to Basal - Pacific'}}"
      ]
     },
     "execution_count": 3,
     "metadata": {},
     "output_type": "execute_result"
    }
   ],
   "source": [
    "data"
   ]
  },
  {
   "cell_type": "markdown",
   "id": "857ca327",
   "metadata": {},
   "source": [
    "You can now view the JSON data."
   ]
  }
 ],
 "metadata": {
  "kernelspec": {
   "display_name": "Python 3 (ipykernel)",
   "language": "python",
   "name": "python3"
  },
  "language_info": {
   "codemirror_mode": {
    "name": "ipython",
    "version": 3
   },
   "file_extension": ".py",
   "mimetype": "text/x-python",
   "name": "python",
   "nbconvert_exporter": "python",
   "pygments_lexer": "ipython3",
   "version": "3.9.10"
  }
 },
 "nbformat": 4,
 "nbformat_minor": 5
}
