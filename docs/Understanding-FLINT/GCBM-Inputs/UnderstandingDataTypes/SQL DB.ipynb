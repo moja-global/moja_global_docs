{
 "cells": [
  {
   "cell_type": "markdown",
   "id": "b14167c1",
   "metadata": {},
   "source": [
    "## Datatype: SQL DB \n",
    "In this example, we are using the [gcbm_output.db](https://github.com/moja-global/GCBM.Belize/blob/master/Standalone_GCBM/input_database/gcbm_input.db) file.\n",
    "\n",
    "In order to open a SQL file in a jupyter notebook, you need to import the sqlite3, pandas and sqlalchemy libraries.\n",
    "\n",
    "Follow the given steps to open a SQL file:"
   ]
  },
  {
   "cell_type": "markdown",
   "id": "c344a6dd",
   "metadata": {},
   "source": [
    "1. Import sqlite3, pandas and sqlalchemy modules"
   ]
  },
  {
   "cell_type": "code",
   "execution_count": 3,
   "id": "60092906",
   "metadata": {},
   "outputs": [],
   "source": [
    "import sqlite3"
   ]
  },
  {
   "cell_type": "code",
   "execution_count": 4,
   "id": "bcc35130",
   "metadata": {},
   "outputs": [],
   "source": [
    "import pandas as pd"
   ]
  },
  {
   "cell_type": "code",
   "execution_count": 5,
   "id": "255df710",
   "metadata": {},
   "outputs": [],
   "source": [
    "import sqlalchemy "
   ]
  },
  {
   "cell_type": "markdown",
   "id": "74ad8036",
   "metadata": {},
   "source": [
    "2. Create a read-write connection"
   ]
  },
  {
   "cell_type": "code",
   "execution_count": 6,
   "id": "83e55f36",
   "metadata": {},
   "outputs": [],
   "source": [
    "conn = sqlite3.connect(\"gcbm_output.db\")"
   ]
  },
  {
   "cell_type": "markdown",
   "id": "863a79db",
   "metadata": {},
   "source": [
    "3. Create a cursor object"
   ]
  },
  {
   "cell_type": "code",
   "execution_count": 7,
   "id": "313a39a9",
   "metadata": {},
   "outputs": [],
   "source": [
    " curs = conn.cursor()"
   ]
  },
  {
   "cell_type": "markdown",
   "id": "2492f545",
   "metadata": {},
   "source": [
    "4. To list all the tables in the database, use the cursor’s fetchall() method to get the tables listed in sqlite_master"
   ]
  },
  {
   "cell_type": "code",
   "execution_count": 8,
   "id": "726a3744",
   "metadata": {
    "scrolled": true
   },
   "outputs": [
    {
     "data": {
      "text/plain": [
       "[('ClassifierSetDimension',),\n",
       " ('DateDimension',),\n",
       " ('PoolDimension',),\n",
       " ('LandClassDimension',),\n",
       " ('ModuleInfoDimension',),\n",
       " ('AgeClassDimension',),\n",
       " ('LocationDimension',),\n",
       " ('DisturbanceTypeDimension',),\n",
       " ('DisturbanceDimension',),\n",
       " ('Pools',),\n",
       " ('Fluxes',),\n",
       " ('ErrorDimension',),\n",
       " ('LocationErrorDimension',),\n",
       " ('AgeArea',),\n",
       " ('sqlite_stat1',),\n",
       " ('r_change_type_categories',),\n",
       " ('sqlite_sequence',),\n",
       " ('r_pool_collections',),\n",
       " ('r_pool_collection_pools',),\n",
       " ('r_flux_indicators',),\n",
       " ('r_flux_indicator_collections',),\n",
       " ('r_flux_indicator_collection_flux_indicators',),\n",
       " ('r_stock_changes',),\n",
       " ('r_pool_indicators',),\n",
       " ('r_location',),\n",
       " ('r_stand_area',),\n",
       " ('v_flux_indicators',),\n",
       " ('v_flux_indicator_aggregates',),\n",
       " ('v_stock_change_indicators',),\n",
       " ('v_pool_indicators',),\n",
       " ('v_disturbance_indicators',),\n",
       " ('v_age_indicators',),\n",
       " ('v_error_indicators',),\n",
       " ('v_total_disturbed_areas',),\n",
       " ('v_disturbance_fluxes',),\n",
       " ('v_flux_indicators_density',),\n",
       " ('v_flux_indicator_aggregates_density',),\n",
       " ('v_stock_change_indicators_density',)]"
      ]
     },
     "execution_count": 8,
     "metadata": {},
     "output_type": "execute_result"
    }
   ],
   "source": [
    "curs.execute(\"SELECT name FROM sqlite_master WHERE type = 'table'\").fetchall()"
   ]
  },
  {
   "cell_type": "markdown",
   "id": "e75c21b3",
   "metadata": {},
   "source": [
    "fetchall() returns a list of tuples, and in this case each tuple has a single element, which is why they each have a trailing comma."
   ]
  },
  {
   "cell_type": "markdown",
   "id": "aa009a3a",
   "metadata": {},
   "source": [
    "5. Here is an example of a map that gives out the total biomass from the year 1920 to 2020"
   ]
  },
  {
   "cell_type": "code",
   "execution_count": 32,
   "id": "395cba4b",
   "metadata": {},
   "outputs": [],
   "source": [
    "query = f\"\"\"\n",
    "        SELECT years.year, COALESCE(SUM(i.pool_tc), 0) / 1e6 AS total_biomass_mt\n",
    "        FROM (SELECT DISTINCT year FROM v_age_indicators ORDER BY year) AS years\n",
    "        LEFT JOIN v_pool_indicators i\n",
    "            ON years.year = i.year\n",
    "        WHERE i.indicator = 'Total Biomass'\n",
    "            AND (years.year BETWEEN 1920 AND 2020)\n",
    "        GROUP BY years.year\n",
    "        ORDER BY years.year\n",
    "        \"\"\""
   ]
  },
  {
   "cell_type": "code",
   "execution_count": 33,
   "id": "5f467df2",
   "metadata": {},
   "outputs": [],
   "source": [
    "\n",
    "df = pd.read_sql_query(query, conn)"
   ]
  },
  {
   "cell_type": "code",
   "execution_count": 34,
   "id": "622e2aaf",
   "metadata": {},
   "outputs": [
    {
     "data": {
      "image/png": "[encoded data removed]",
      "text/plain": [
       "<Figure size 432x288 with 1 Axes>"
      ]
     },
     "metadata": {
      "needs_background": "light"
     },
     "output_type": "display_data"
    }
   ],
   "source": [
    "ax = df.plot.line(\"year\")"
   ]
  }
 ],
 "metadata": {
  "kernelspec": {
   "display_name": "Python 3 (ipykernel)",
   "language": "python",
   "name": "python3"
  },
  "language_info": {
   "codemirror_mode": {
    "name": "ipython",
    "version": 3
   },
   "file_extension": ".py",
   "mimetype": "text/x-python",
   "name": "python",
   "nbconvert_exporter": "python",
   "pygments_lexer": "ipython3",
   "version": "3.9.10"
  }
 },
 "nbformat": 4,
 "nbformat_minor": 5
}
