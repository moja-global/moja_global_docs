{
 "cells": [
  {
   "cell_type": "markdown",
   "id": "fa2fefe0",
   "metadata": {},
   "source": [
    "## Datatype: Shapefiles\n",
    "### A shapefile is an Esri vector data storage format for storing the location, shape, and attributes of geographic features. It is stored as a set of related files and contains one feature class.\n",
    "\n",
    "For this example, we are using the [inventory.shp](https://github.com/moja-global/GCBM.Belize/blob/master/Standalone_GCBM/layers/raw/inventory/inventory.shp) file.\n",
    "\n",
    "To open a shapefile, you need the geopandas library. \n",
    "\n",
    "If you are Windows, go through the following steps to install the required libraries:\n",
    "1. Using your cmd, install wheel\n",
    "```shell\n",
    "pip install *.whl \n",
    "```\n",
    "2. Go to [Unofficial Windows Binaries for Python Extension Packages](https://www.lfd.uci.edu/~gohlke/pythonlibs/)\n",
    "3. Download on a specific folder the following binaries: GDAL, Pyproj, Fiona, Shapely and Geopandas matching the version of Python, and whether the 32-bit or 64-bit OS is installed on your laptop.\n",
    "4. Go to the folder where the binaries are downloaded.\n",
    "5. Follow the order of installation and make sure the filename is correct with respect to the one you have downloaded.\n",
    "```shell\n",
    "pip install .\\GDAL-3.1.1-cp37-cp37m-win_amd64.whl\n",
    "```\n",
    "```shell\n",
    "pip install .\\pyproj-2.6.1.post1-cp37-cp37m-win_amd64.whl\n",
    "```\n",
    "```shell\n",
    "pip install .\\Fiona-1.8.13-cp37-cp37m-win_amd64.whl\n",
    "```\n",
    "```shell\n",
    "pip install .\\Shapely-1.7.0-cp37-cp37m-win_amd64.whl\n",
    "```\n",
    "```shell\n",
    "pip install .\\geopandas-0.8.0-py3-none-any\n",
    "```\n",
    "For example, for Python v3.7x (64-bit), GDAL package should be GDAL‑3.1.2‑cp37‑cp37m‑win_amd64.whl.\n",
    "\n",
    "For linux and MacOS based systems, run the following command in your terminal:\n",
    "    ```shell\n",
    "    conda install geopandas\n",
    "    ```"
   ]
  },
  {
   "cell_type": "markdown",
   "id": "59f83809",
   "metadata": {},
   "source": [
    "After installing the libraries correctly, follow the given steps to open the shapefile.\n",
    "\n",
    "1. Import geopands library as gpd."
   ]
  },
  {
   "cell_type": "code",
   "execution_count": 3,
   "id": "730e22b9",
   "metadata": {},
   "outputs": [],
   "source": [
    "import geopandas as gpd"
   ]
  },
  {
   "cell_type": "markdown",
   "id": "49c69532",
   "metadata": {},
   "source": [
    "2. Use the read_file function and pass the file location as a parameter to it."
   ]
  },
  {
   "cell_type": "code",
   "execution_count": 9,
   "id": "980df035",
   "metadata": {
    "scrolled": true
   },
   "outputs": [],
   "source": [
    "gdf = gpd.read_file(\"inventory.shp\")"
   ]
  },
  {
   "cell_type": "code",
   "execution_count": null,
   "id": "eee70805",
   "metadata": {},
   "outputs": [],
   "source": [
    "3. Use print statement to return the attribute table."
   ]
  },
  {
   "cell_type": "code",
   "execution_count": 10,
   "id": "58c6ee16",
   "metadata": {},
   "outputs": [
    {
     "name": "stdout",
     "output_type": "stream",
     "text": [
      "                                              geometry\n",
      "0    POLYGON ((-88.46429 17.33493, -88.45598 17.334...\n",
      "1    POLYGON ((-88.53911 17.30164, -88.52248 17.301...\n",
      "2    POLYGON ((-88.56405 17.20178, -88.55574 17.201...\n",
      "3    POLYGON ((-88.63056 17.14353, -88.61393 17.143...\n",
      "4    POLYGON ((-88.83839 17.10192, -88.83008 17.101...\n",
      "..                                                 ...\n",
      "96   POLYGON ((-88.83008 17.01038, -88.81345 17.010...\n",
      "97   POLYGON ((-89.07117 16.21981, -89.05454 16.219...\n",
      "98   POLYGON ((-89.08779 16.21981, -89.07948 16.219...\n",
      "99   POLYGON ((-89.20418 16.17820, -89.17093 16.178...\n",
      "100  POLYGON ((-88.45598 17.35157, -88.43935 17.351...\n",
      "\n",
      "[101 rows x 1 columns]\n"
     ]
    }
   ],
   "source": [
    "print(gdf)"
   ]
  },
  {
   "cell_type": "markdown",
   "id": "56b3c85e",
   "metadata": {},
   "source": [
    "4. Use matplotlib to plot the map"
   ]
  },
  {
   "cell_type": "code",
   "execution_count": 12,
   "id": "3a9a5606",
   "metadata": {},
   "outputs": [
    {
     "data": {
      "text/plain": [
       "<AxesSubplot:>"
      ]
     },
     "execution_count": 12,
     "metadata": {},
     "output_type": "execute_result"
    },
    {
     "data": {
      "image/png": "[encoded data removed]",
      "text/plain": [
       "<Figure size 432x288 with 1 Axes>"
      ]
     },
     "metadata": {
      "needs_background": "light"
     },
     "output_type": "display_data"
    }
   ],
   "source": [
    "%matplotlib inline\n",
    "gdf.plot()"
   ]
  }
 ],
 "metadata": {
  "kernelspec": {
   "display_name": "Python 3 (ipykernel)",
   "language": "python",
   "name": "python3"
  },
  "language_info": {
   "codemirror_mode": {
    "name": "ipython",
    "version": 3
   },
   "file_extension": ".py",
   "mimetype": "text/x-python",
   "name": "python",
   "nbconvert_exporter": "python",
   "pygments_lexer": "ipython3",
   "version": "3.10.4"
  }
 },
 "nbformat": 4,
 "nbformat_minor": 5
}
